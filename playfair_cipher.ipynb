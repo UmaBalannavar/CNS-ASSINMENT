{
 "cells": [
  {
   "cell_type": "code",
   "execution_count": 2,
   "id": "b49bed38",
   "metadata": {},
   "outputs": [
    {
     "name": "stdout",
     "output_type": "stream",
     "text": [
      "Plain Text: HELLO WORLD\n",
      "Encrypted: GYIZSCOKCFBU\n",
      "Decrypted: HELXLOWORLDX\n"
     ]
    }
   ],
   "source": [
    "def generate_playfair_key(key):\n",
    "    key = \"\".join(sorted(set(key.upper()), key=lambda x: key.index(x)))\n",
    "    key = key.replace(\"J\", \"I\")\n",
    "    alphabet = \"ABCDEFGHIKLMNOPQRSTUVWXYZ\"\n",
    "    for char in alphabet:\n",
    "        if char not in key:\n",
    "            key += char\n",
    "    matrix = [list(key[i:i+5]) for i in range(0, 25, 5)]\n",
    "    return matrix\n",
    "\n",
    "def find_position(matrix, char):\n",
    "    for r in range(5):\n",
    "        for c in range(5):\n",
    "            if matrix[r][c] == char:\n",
    "                return r, c\n",
    "\n",
    "def playfair_encrypt(text, key):\n",
    "    matrix = generate_playfair_key(key)\n",
    "    text = text.upper().replace(\"J\", \"I\").replace(\" \", \"\")\n",
    "    pairs, i = [], 0\n",
    "    while i < len(text):\n",
    "        a = text[i]\n",
    "        b = text[i+1] if i+1 < len(text) else \"X\"\n",
    "        if a == b:\n",
    "            b = \"X\"\n",
    "            i += 1\n",
    "        else:\n",
    "            i += 2\n",
    "        pairs.append((a, b))\n",
    "    \n",
    "    result = \"\"\n",
    "    for a, b in pairs:\n",
    "        row_a, col_a = find_position(matrix, a)\n",
    "        row_b, col_b = find_position(matrix, b)\n",
    "        if row_a == row_b:  # Same row\n",
    "            result += matrix[row_a][(col_a + 1) % 5] + matrix[row_b][(col_b + 1) % 5]\n",
    "        elif col_a == col_b:  # Same column\n",
    "            result += matrix[(row_a + 1) % 5][col_a] + matrix[(row_b + 1) % 5][col_b]\n",
    "        else:  # Rectangle rule\n",
    "            result += matrix[row_a][col_b] + matrix[row_b][col_a]\n",
    "    return result\n",
    "\n",
    "def playfair_decrypt(text, key):\n",
    "    matrix = generate_playfair_key(key)\n",
    "    text = text.upper().replace(\"J\", \"I\").replace(\" \", \"\")\n",
    "    pairs = [(text[i], text[i+1]) for i in range(0, len(text), 2)]\n",
    "    \n",
    "    result = \"\"\n",
    "    for a, b in pairs:\n",
    "        row_a, col_a = find_position(matrix, a)\n",
    "        row_b, col_b = find_position(matrix, b)\n",
    "        if row_a == row_b:  # Same row\n",
    "            result += matrix[row_a][(col_a - 1) % 5] + matrix[row_b][(col_b - 1) % 5]\n",
    "        elif col_a == col_b:  # Same column\n",
    "            result += matrix[(row_a - 1) % 5][col_a] + matrix[(row_b - 1) % 5][col_b]\n",
    "        else:  # Rectangle rule\n",
    "            result += matrix[row_a][col_b] + matrix[row_b][col_a]\n",
    "    return result\n",
    "\n",
    "# Case Study\n",
    "plain_text = \"HELLO WORLD\"\n",
    "key = \"KEYWORD\"\n",
    "\n",
    "encrypted = playfair_encrypt(plain_text, key)\n",
    "decrypted = playfair_decrypt(encrypted, key)\n",
    "\n",
    "print(\"Plain Text:\", plain_text)\n",
    "print(\"Encrypted:\", encrypted)\n",
    "print(\"Decrypted:\", decrypted)\n"
   ]
  }
 ],
 "metadata": {
  "kernelspec": {
   "display_name": ".venv",
   "language": "python",
   "name": "python3"
  },
  "language_info": {
   "codemirror_mode": {
    "name": "ipython",
    "version": 3
   },
   "file_extension": ".py",
   "mimetype": "text/x-python",
   "name": "python",
   "nbconvert_exporter": "python",
   "pygments_lexer": "ipython3",
   "version": "3.12.6"
  }
 },
 "nbformat": 4,
 "nbformat_minor": 5
}
