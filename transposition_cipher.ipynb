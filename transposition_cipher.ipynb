{
 "cells": [
  {
   "cell_type": "code",
   "execution_count": 1,
   "id": "7b0aeaba",
   "metadata": {},
   "outputs": [
    {
     "name": "stdout",
     "output_type": "stream",
     "text": [
      "Plain Text: HELLO WORLD\n",
      "Encrypted: EWDLOXHOLLRX\n",
      "Decrypted: HELLOWORLD\n"
     ]
    }
   ],
   "source": [
    "def transposition_encrypt(text, key):\n",
    "    text = text.replace(\" \", \"\")\n",
    "    n = len(key)\n",
    "    padded = text + \"X\" * ((n - len(text) % n) % n)\n",
    "    matrix = [padded[i:i+n] for i in range(0, len(padded), n)]\n",
    "    result = \"\"\n",
    "    for col in sorted(range(n), key=lambda k: key[k]):\n",
    "        result += \"\".join(row[col] for row in matrix)\n",
    "    return result\n",
    "\n",
    "def transposition_decrypt(cipher, key):\n",
    "    n = len(key)\n",
    "    rows = len(cipher) // n\n",
    "    matrix = [[\"\"] * n for _ in range(rows)]\n",
    "    sorted_key = sorted(range(n), key=lambda k: key[k])\n",
    "    \n",
    "    idx = 0\n",
    "    for col in sorted_key:\n",
    "        for row in range(rows):\n",
    "            matrix[row][col] = cipher[idx]\n",
    "            idx += 1\n",
    "    result = \"\".join(\"\".join(row) for row in matrix)\n",
    "    return result.rstrip(\"X\")\n",
    "\n",
    "# Case Study\n",
    "plain_text = \"HELLO WORLD\"\n",
    "key = \"HACK\"\n",
    "\n",
    "encrypted = transposition_encrypt(plain_text, key)\n",
    "decrypted = transposition_decrypt(encrypted, key)\n",
    "\n",
    "print(\"Plain Text:\", plain_text)\n",
    "print(\"Encrypted:\", encrypted)\n",
    "print(\"Decrypted:\", decrypted)\n"
   ]
  }
 ],
 "metadata": {
  "kernelspec": {
   "display_name": ".venv",
   "language": "python",
   "name": "python3"
  },
  "language_info": {
   "codemirror_mode": {
    "name": "ipython",
    "version": 3
   },
   "file_extension": ".py",
   "mimetype": "text/x-python",
   "name": "python",
   "nbconvert_exporter": "python",
   "pygments_lexer": "ipython3",
   "version": "3.12.6"
  }
 },
 "nbformat": 4,
 "nbformat_minor": 5
}
