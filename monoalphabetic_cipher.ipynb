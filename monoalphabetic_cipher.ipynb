{
 "cells": [
  {
   "cell_type": "code",
   "execution_count": 1,
   "id": "5288e86b",
   "metadata": {},
   "outputs": [
    {
     "name": "stdout",
     "output_type": "stream",
     "text": [
      "Plain Text: HELLO WORLD\n",
      "Encrypted: ITSSG VGKSR\n",
      "Decrypted: HELLO WORLD\n"
     ]
    }
   ],
   "source": [
    "def monoalphabetic_encrypt(text, key_map):\n",
    "    result = \"\"\n",
    "    for char in text.upper():\n",
    "        if char.isalpha():\n",
    "            result += key_map[ord(char) - 65]\n",
    "        else:\n",
    "            result += char\n",
    "    return result\n",
    "\n",
    "def monoalphabetic_decrypt(text, key_map):\n",
    "    reverse_map = {v: chr(i + 65) for i, v in enumerate(key_map)}\n",
    "    result = \"\"\n",
    "    for char in text.upper():\n",
    "        if char.isalpha():\n",
    "            result += reverse_map[char]\n",
    "        else:\n",
    "            result += char\n",
    "    return result\n",
    "\n",
    "# Case Study\n",
    "plain_text = \"HELLO WORLD\"\n",
    "key_map = list(\"QWERTYUIOPASDFGHJKLZXCVBNM\")\n",
    "\n",
    "encrypted = monoalphabetic_encrypt(plain_text, key_map)\n",
    "decrypted = monoalphabetic_decrypt(encrypted, key_map)\n",
    "\n",
    "print(\"Plain Text:\", plain_text)\n",
    "print(\"Encrypted:\", encrypted)\n",
    "print(\"Decrypted:\", decrypted)\n"
   ]
  }
 ],
 "metadata": {
  "kernelspec": {
   "display_name": ".venv",
   "language": "python",
   "name": "python3"
  },
  "language_info": {
   "codemirror_mode": {
    "name": "ipython",
    "version": 3
   },
   "file_extension": ".py",
   "mimetype": "text/x-python",
   "name": "python",
   "nbconvert_exporter": "python",
   "pygments_lexer": "ipython3",
   "version": "3.12.6"
  }
 },
 "nbformat": 4,
 "nbformat_minor": 5
}
