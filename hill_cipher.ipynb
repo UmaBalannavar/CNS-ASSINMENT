{
 "cells": [
  {
   "cell_type": "code",
   "execution_count": null,
   "id": "d6e6a377",
   "metadata": {},
   "outputs": [
    {
     "name": "stdout",
     "output_type": "stream",
     "text": [
      "Plain Text: HELLO WORLD\n",
      "Encrypted: HIOZEIPJQL\n",
      "Decrypted: HELLOWORLD\n"
     ]
    }
   ],
   "source": [
    "import numpy as np\n",
    "def mod_inverse_matrix(matrix, modulus):\n",
    "    det = int(np.round(np.linalg.det(matrix)))\n",
    "    det_inv = pow(det % modulus, -1, modulus)  # modular inverse of determinant\n",
    "    matrix_mod_inv = det_inv * np.round(det * np.linalg.inv(matrix)).astype(int) % modulus\n",
    "    return matrix_mod_inv\n",
    "\n",
    "def hill_encrypt(text, key_matrix):\n",
    "    text = text.upper().replace(\" \", \"\")\n",
    "    while len(text) % 2 != 0:\n",
    "        text += 'X'\n",
    "    result = \"\"\n",
    "    for i in range(0, len(text), 2):\n",
    "        pair = np.array([[ord(text[i]) - 65], [ord(text[i+1]) - 65]])\n",
    "        enc = np.dot(key_matrix, pair) % 26\n",
    "        result += chr(int(enc[0, 0]) + 65) + chr(int(enc[1, 0]) + 65)\n",
    "    return result\n",
    "\n",
    "def hill_decrypt(text, key_matrix):\n",
    "    inv_matrix = mod_inverse_matrix(key_matrix, 26)\n",
    "    result = \"\"\n",
    "    for i in range(0, len(text), 2):\n",
    "        pair = np.array([[ord(text[i]) - 65], [ord(text[i+1]) - 65]])\n",
    "        dec = np.dot(inv_matrix, pair) % 26\n",
    "        result += chr(int(dec[0, 0]) + 65) + chr(int(dec[1, 0]) + 65)\n",
    "    return result\n",
    "\n",
    "# Case Study\n",
    "plain_text = \"HELLO WORLD\"\n",
    "key_matrix = np.array([[3, 3], [2, 5]])\n",
    "\n",
    "encrypted = hill_encrypt(plain_text, key_matrix)\n",
    "decrypted = hill_decrypt(encrypted, key_matrix)\n",
    "\n",
    "print(\"Plain Text:\", plain_text)\n",
    "print(\"Encrypted:\", encrypted)\n",
    "print(\"Decrypted:\", decrypted)\n"
   ]
  }
 ],
 "metadata": {
  "kernelspec": {
   "display_name": ".venv",
   "language": "python",
   "name": "python3"
  },
  "language_info": {
   "codemirror_mode": {
    "name": "ipython",
    "version": 3
   },
   "file_extension": ".py",
   "mimetype": "text/x-python",
   "name": "python",
   "nbconvert_exporter": "python",
   "pygments_lexer": "ipython3",
   "version": "3.12.6"
  }
 },
 "nbformat": 4,
 "nbformat_minor": 5
}
