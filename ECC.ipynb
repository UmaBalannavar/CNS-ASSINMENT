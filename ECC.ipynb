{
  "nbformat": 4,
  "nbformat_minor": 0,
  "metadata": {
    "colab": {
      "provenance": [],
      "authorship_tag": "ABX9TyOWb5SQB0VY8aTf8RvT3HVM",
      "include_colab_link": true
    },
    "kernelspec": {
      "name": "python3",
      "display_name": "Python 3"
    },
    "language_info": {
      "name": "python"
    }
  },
  "cells": [
    {
      "cell_type": "markdown",
      "metadata": {
        "id": "view-in-github",
        "colab_type": "text"
      },
      "source": [
        "<a href=\"https://colab.research.google.com/github/UmaBalannavar/CNS-ASSINMENT/blob/main/ECC.ipynb\" target=\"_parent\"><img src=\"https://colab.research.google.com/assets/colab-badge.svg\" alt=\"Open In Colab\"/></a>"
      ]
    },
    {
      "cell_type": "code",
      "execution_count": null,
      "metadata": {
        "colab": {
          "base_uri": "https://localhost:8080/"
        },
        "id": "3SSA8AIa4pq_",
        "outputId": "bf3e85ba-dd79-4e8d-b1cb-c0d2d18edc70"
      },
      "outputs": [
        {
          "output_type": "stream",
          "name": "stdout",
          "text": [
            "Generating ECC keypair (secp256k1)...\n",
            "Private key (int): 60196523917814974742155434478327838367240126605474613215882754349596949252428\n",
            "Public key (point): (49479716927223160009354880764119345418734594451546415707158114106889837968043, 8001426918195017072273547036016649772303525928666424330686446193083517308281)\n",
            "Signature (r,s): (50377278674820566623191098090530776790799047701123453659832587932803153778565, 590617542890027681003843942030028321670525249151758955471152219660622925794)\n",
            "Verify: True\n"
          ]
        }
      ],
      "source": [
        "# ecc_ecdsa_demo.py\n",
        "# Educational ECDSA implementation (secp256k1) for keygen, sign, verify.\n",
        "# WARNING: This is educational. For production use well-tested libs.\n",
        "\n",
        "import random\n",
        "import hashlib\n",
        "\n",
        "# secp256k1 domain parameters\n",
        "P = 0xFFFFFFFFFFFFFFFFFFFFFFFFFFFFFFFFFFFFFFFFFFFFFFFFFFFFFFFEFFFFFC2F\n",
        "A = 0\n",
        "B = 7\n",
        "Gx = 55066263022277343669578718895168534326250603453777594175500187360389116729240\n",
        "Gy = 32670510020758816978083085130507043184471273380659243275938904335757337482424\n",
        "N = 0xFFFFFFFFFFFFFFFFFFFFFFFFFFFFFFFEBAAEDCE6AF48A03BBFD25E8CD0364141\n",
        "\n",
        "# Point at infinity representation\n",
        "INF = None\n",
        "\n",
        "def inv_mod(x, p):\n",
        "    # modular inverse\n",
        "    return pow(x, p-2, p)\n",
        "\n",
        "def is_on_curve(point):\n",
        "    if point is None:\n",
        "        return True\n",
        "    x, y = point\n",
        "    return (y*y - (x*x*x + A*x + B)) % P == 0\n",
        "\n",
        "def point_add(p1, p2):\n",
        "    if p1 is None:\n",
        "        return p2\n",
        "    if p2 is None:\n",
        "        return p1\n",
        "    x1, y1 = p1\n",
        "    x2, y2 = p2\n",
        "    if x1 == x2 and (y1 != y2 or y1 == 0):\n",
        "        return None\n",
        "    if x1 == x2:\n",
        "        # point doubling\n",
        "        m = (3 * x1 * x1 + A) * inv_mod(2 * y1, P) % P\n",
        "    else:\n",
        "        m = (y2 - y1) * inv_mod(x2 - x1, P) % P\n",
        "    x3 = (m*m - x1 - x2) % P\n",
        "    y3 = (m*(x1 - x3) - y1) % P\n",
        "    return (x3, y3)\n",
        "\n",
        "def scalar_mult(k, point):\n",
        "    # double-and-add\n",
        "    result = None\n",
        "    addend = point\n",
        "    while k:\n",
        "        if k & 1:\n",
        "            result = point_add(result, addend)\n",
        "        addend = point_add(addend, addend)\n",
        "        k >>= 1\n",
        "    return result\n",
        "\n",
        "# ---------- Key generation ----------\n",
        "def ecc_keygen():\n",
        "    priv = random.randrange(1, N-1)\n",
        "    pub = scalar_mult(priv, (Gx, Gy))\n",
        "    return priv, pub\n",
        "# ---------- ECDSA sign / verify ----------\n",
        "def ecc_sign(msg: bytes, priv):\n",
        "    z = int.from_bytes(hashlib.sha256(msg).digest(), 'big')\n",
        "    while True:\n",
        "        k = random.randrange(1, N-1)\n",
        "        x1y1 = scalar_mult(k, (Gx, Gy))\n",
        "        if x1y1 is None:\n",
        "            continue\n",
        "        r = x1y1[0] % N\n",
        "        if r == 0:\n",
        "            continue\n",
        "        s = (inv_mod(k, N) * (z + r * priv)) % N\n",
        "        if s == 0:\n",
        "            continue\n",
        "        return (r, s)\n",
        "def ecc_verify(msg: bytes, signature, pub):\n",
        "    r, s = signature\n",
        "    if not (1 <= r < N and 1 <= s < N):\n",
        "        return False\n",
        "    z = int.from_bytes(hashlib.sha256(msg).digest(), 'big')\n",
        "    w = inv_mod(s, N)\n",
        "    u1 = (z * w) % N\n",
        "    u2 = (r * w) % N\n",
        "    p = point_add(scalar_mult(u1, (Gx, Gy)), scalar_mult(u2, pub))\n",
        "    if p is None:\n",
        "        return False\n",
        "    return (p[0] % N) == r\n",
        "# ---------- Example ----------\n",
        "if __name__ == \"__main__\":\n",
        "    print(\"Generating ECC keypair (secp256k1)...\")\n",
        "    priv, pub = ecc_keygen()\n",
        "    print(\"Private key (int):\", priv)\n",
        "    print(\"Public key (point):\", pub)\n",
        "    message = b'Hello ECC ECDSA!'\n",
        "    sig = ecc_sign(message, priv)\n",
        "    print(\"Signature (r,s):\", sig)\n",
        "    print(\"Verify:\", ecc_verify(message, sig, pub))\n"
      ]
    }
  ]
}