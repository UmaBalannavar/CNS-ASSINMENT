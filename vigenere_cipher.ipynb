{
 "cells": [
  {
   "cell_type": "code",
   "execution_count": 1,
   "id": "d6c54fdb",
   "metadata": {},
   "outputs": [
    {
     "name": "stdout",
     "output_type": "stream",
     "text": [
      "Plain Text: HELLO WORLD\n",
      "Encrypted: RIJVS GSPVH\n",
      "Decrypted: HELLO WORLD\n"
     ]
    }
   ],
   "source": [
    "def vigenere_encrypt(text, key):\n",
    "    result = \"\"\n",
    "    key = key.upper()\n",
    "    k_len = len(key)\n",
    "    for i, char in enumerate(text.upper()):\n",
    "        if char.isalpha():\n",
    "            shift = ord(key[i % k_len]) - 65\n",
    "            result += chr((ord(char) - 65 + shift) % 26 + 65)\n",
    "        else:\n",
    "            result += char\n",
    "    return result\n",
    "\n",
    "def vigenere_decrypt(text, key):\n",
    "    result = \"\"\n",
    "    key = key.upper()\n",
    "    k_len = len(key)\n",
    "    for i, char in enumerate(text.upper()):\n",
    "        if char.isalpha():\n",
    "            shift = ord(key[i % k_len]) - 65\n",
    "            result += chr((ord(char) - 65 - shift) % 26 + 65)\n",
    "        else:\n",
    "            result += char\n",
    "    return result\n",
    "\n",
    "# Case Study\n",
    "plain_text = \"HELLO WORLD\"\n",
    "encrypted = vigenere_encrypt(plain_text, \"KEY\")\n",
    "decrypted = vigenere_decrypt(encrypted, \"KEY\")\n",
    "\n",
    "print(\"Plain Text:\", plain_text)\n",
    "print(\"Encrypted:\", encrypted)\n",
    "print(\"Decrypted:\", decrypted)\n"
   ]
  }
 ],
 "metadata": {
  "kernelspec": {
   "display_name": ".venv",
   "language": "python",
   "name": "python3"
  },
  "language_info": {
   "codemirror_mode": {
    "name": "ipython",
    "version": 3
   },
   "file_extension": ".py",
   "mimetype": "text/x-python",
   "name": "python",
   "nbconvert_exporter": "python",
   "pygments_lexer": "ipython3",
   "version": "3.12.6"
  }
 },
 "nbformat": 4,
 "nbformat_minor": 5
}
