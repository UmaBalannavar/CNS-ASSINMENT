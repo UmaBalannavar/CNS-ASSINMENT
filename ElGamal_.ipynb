{
  "cells": [
    {
      "cell_type": "markdown",
      "metadata": {
        "id": "view-in-github",
        "colab_type": "text"
      },
      "source": [
        "<a href=\"https://colab.research.google.com/github/UmaBalannavar/CNS-ASSINMENT/blob/main/ElGamal_.ipynb\" target=\"_parent\"><img src=\"https://colab.research.google.com/assets/colab-badge.svg\" alt=\"Open In Colab\"/></a>"
      ]
    },
    {
      "cell_type": "code",
      "source": [
        "import random\n",
        "from sympy import mod_inverse, isprime\n",
        "\n",
        "# ---------- Key Generation ----------\n",
        "def elgamal_keygen(p=467):  # p must be a large prime\n",
        "    assert isprime(p), \"p must be prime\"\n",
        "    g = random.randint(2, p-2)  # generator\n",
        "    x = random.randint(2, p-2)  # private key\n",
        "    y = pow(g, x, p)            # public key component\n",
        "    return (p, g, y), x         # public key, private key\n",
        "\n",
        "# ---------- Encryption ----------\n",
        "def elgamal_encrypt(pub_key, msg):\n",
        "    p, g, y = pub_key\n",
        "    # Convert each character into ASCII number\n",
        "    cipher_pairs = []\n",
        "    for char in msg:\n",
        "        m = ord(char)  # numeric representation\n",
        "        k = random.randint(2, p-2)  # random session key\n",
        "        c1 = pow(g, k, p)\n",
        "        c2 = (m * pow(y, k, p)) % p\n",
        "        cipher_pairs.append((c1, c2))\n",
        "    return cipher_pairs\n",
        "\n",
        "# ---------- Decryption ----------\n",
        "def elgamal_decrypt(priv_key, pub_key, cipher_pairs):\n",
        "    p, g, y = pub_key\n",
        "    x = priv_key\n",
        "    plaintext = ''\n",
        "    for (c1, c2) in cipher_pairs:\n",
        "        s = pow(c1, x, p)                # shared secret\n",
        "        m = (c2 * mod_inverse(s, p)) % p # recover original number\n",
        "        plaintext += chr(m)\n",
        "    return plaintext\n",
        "# ---------- Example Run ----------\n",
        "# Generate keys\n",
        "public_key, private_key = elgamal_keygen()\n",
        "print(\"Public Key:\", public_key)\n",
        "print(\"Private Key:\", private_key)\n",
        "# Encrypt\n",
        "message = \"HELLO ELGAMAL\"\n",
        "ciphertext = elgamal_encrypt(public_key, message)\n",
        "print(\"\\nOriginal Text:\", message)\n",
        "print(\"Encrypted Ciphertext:\", ciphertext)\n",
        "\n",
        "# Decrypt\n",
        "decrypted = elgamal_decrypt(private_key, public_key, ciphertext)\n",
        "print(\"Decrypted Text:\", decrypted)\n"
      ],
      "metadata": {
        "colab": {
          "base_uri": "https://localhost:8080/"
        },
        "id": "vVRZ73bszVX9",
        "outputId": "ff091b4b-2cd0-4408-f451-f452421981b1"
      },
      "execution_count": 1,
      "outputs": [
        {
          "output_type": "stream",
          "name": "stdout",
          "text": [
            "Public Key: (467, 342, 438)\n",
            "Private Key: 212\n",
            "\n",
            "Original Text: HELLO ELGAMAL\n",
            "Encrypted Ciphertext: [(43, 6), (286, 144), (90, 182), (25, 271), (331, 281), (49, 344), (251, 289), (430, 24), (206, 59), (62, 268), (159, 8), (277, 14), (331, 359)]\n",
            "Decrypted Text: HELLO ELGAMAL\n"
          ]
        }
      ]
    }
  ],
  "metadata": {
    "colab": {
      "provenance": [],
      "authorship_tag": "ABX9TyNsimpgwMn/vkqNBoEbd8kl",
      "include_colab_link": true
    },
    "kernelspec": {
      "display_name": "Python 3",
      "name": "python3"
    },
    "language_info": {
      "name": "python"
    }
  },
  "nbformat": 4,
  "nbformat_minor": 0
}